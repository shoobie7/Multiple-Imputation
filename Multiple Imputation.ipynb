{
 "cells": [
  {
   "cell_type": "code",
   "execution_count": 1,
   "id": "92309e4b",
   "metadata": {},
   "outputs": [
    {
     "name": "stdout",
     "output_type": "stream",
     "text": [
      "Missing data has been imputed using multiple imputation and the dataset has been saved as 'survey_responses_imputed.csv'\n"
     ]
    }
   ],
   "source": [
    "import pandas as pd\n",
    "import numpy as np\n",
    "from sklearn.experimental import enable_iterative_imputer\n",
    "from sklearn.impute import IterativeImputer\n",
    "\n",
    "# Create a sample dataframe\n",
    "data = {\n",
    "    'ParticipantID': [1, 2, 3, 4, 5, 6, 7, 8, 9, 10],\n",
    "    'Question1': [4, 3, 5, 2, np.nan, 3, 4, 5, 3, 2],\n",
    "    'Question2': [3, np.nan, 4, 3, 2, 3, np.nan, 4, 3, 2],\n",
    "    'Question3': [5, 4, 4, 3, 4, 5, 5, 5, np.nan, 4],\n",
    "    'Question4': [2, 2, np.nan, 2, 3, 3, 4, np.nan, 2, 3],\n",
    "    'Question5': [1, 3, 2, np.nan, 3, 2, 1, 3, 2, 4]\n",
    "}\n",
    "\n",
    "df = pd.DataFrame(data)\n",
    "\n",
    "# Save the original dataframe to a CSV file\n",
    "df.to_csv('survey_responses.csv', index=False)\n",
    "\n",
    "# Perform multiple imputation\n",
    "imputer = IterativeImputer(max_iter=10, random_state=0)\n",
    "imputed_data = imputer.fit_transform(df.drop(columns=['ParticipantID']))\n",
    "\n",
    "# Convert the imputed data back to a dataframe\n",
    "df_imputed = pd.DataFrame(imputed_data, columns=['Question1', 'Question2', 'Question3', 'Question4', 'Question5'])\n",
    "\n",
    "# Add the ParticipantID column back\n",
    "df_imputed.insert(0, 'ParticipantID', df['ParticipantID'])\n",
    "\n",
    "# Save the imputed dataframe to a new CSV file\n",
    "df_imputed.to_csv('survey_responses_imputed.csv', index=False)\n",
    "\n",
    "print(\"Missing data has been imputed using multiple imputation and the dataset has been saved as 'survey_responses_imputed.csv'\")\n"
   ]
  },
  {
   "cell_type": "code",
   "execution_count": null,
   "id": "afdec652",
   "metadata": {},
   "outputs": [],
   "source": []
  }
 ],
 "metadata": {
  "kernelspec": {
   "display_name": "Python 3 (ipykernel)",
   "language": "python",
   "name": "python3"
  },
  "language_info": {
   "codemirror_mode": {
    "name": "ipython",
    "version": 3
   },
   "file_extension": ".py",
   "mimetype": "text/x-python",
   "name": "python",
   "nbconvert_exporter": "python",
   "pygments_lexer": "ipython3",
   "version": "3.11.5"
  }
 },
 "nbformat": 4,
 "nbformat_minor": 5
}
